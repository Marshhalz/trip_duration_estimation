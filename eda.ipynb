{
 "cells": [
  {
   "cell_type": "markdown",
   "metadata": {},
   "source": [
    "# Start to investigate and view the data so we can perform some EDA on it"
   ]
  },
  {
   "cell_type": "markdown",
   "metadata": {},
   "source": []
  },
  {
   "cell_type": "code",
   "execution_count": 2,
   "metadata": {},
   "outputs": [],
   "source": [
    "import pandas as pd\n",
    "import numpy as np\n",
    "import matplotlib.pylab as plt\n",
    "import seaborn as sns\n",
    "from sklearn.model_selection import train_test_split\n",
    "from sklearn.preprocessing import StandardScaler , MinMaxScaler\n",
    "from sklearn.linear_model import Ridge\n",
    "from sklearn.metrics import mean_squared_error, r2_score\n",
    "\n",
    "df=pd.read_csv('Z:/Documents/proj data/train.csv')\n",
    "\n",
    "dft=pd.read_csv('Z:/Documents/proj data/val.csv')"
   ]
  },
  {
   "cell_type": "code",
   "execution_count": 3,
   "metadata": {},
   "outputs": [
    {
     "data": {
      "text/plain": [
       "(1000000, 11)"
      ]
     },
     "execution_count": 3,
     "metadata": {},
     "output_type": "execute_result"
    }
   ],
   "source": [
    "df.shape"
   ]
  },
  {
   "cell_type": "code",
   "execution_count": 4,
   "metadata": {},
   "outputs": [
    {
     "data": {
      "text/html": [
       "<div>\n",
       "<style scoped>\n",
       "    .dataframe tbody tr th:only-of-type {\n",
       "        vertical-align: middle;\n",
       "    }\n",
       "\n",
       "    .dataframe tbody tr th {\n",
       "        vertical-align: top;\n",
       "    }\n",
       "\n",
       "    .dataframe thead th {\n",
       "        text-align: right;\n",
       "    }\n",
       "</style>\n",
       "<table border=\"1\" class=\"dataframe\">\n",
       "  <thead>\n",
       "    <tr style=\"text-align: right;\">\n",
       "      <th></th>\n",
       "      <th>id</th>\n",
       "      <th>vendor_id</th>\n",
       "      <th>pickup_datetime</th>\n",
       "      <th>dropoff_datetime</th>\n",
       "      <th>passenger_count</th>\n",
       "      <th>pickup_longitude</th>\n",
       "      <th>pickup_latitude</th>\n",
       "      <th>dropoff_longitude</th>\n",
       "      <th>dropoff_latitude</th>\n",
       "      <th>store_and_fwd_flag</th>\n",
       "      <th>trip_duration</th>\n",
       "    </tr>\n",
       "  </thead>\n",
       "  <tbody>\n",
       "    <tr>\n",
       "      <th>0</th>\n",
       "      <td>id2793718</td>\n",
       "      <td>2</td>\n",
       "      <td>2016-06-08 07:36:19</td>\n",
       "      <td>2016-06-08 07:53:39</td>\n",
       "      <td>1</td>\n",
       "      <td>-73.985611</td>\n",
       "      <td>40.735943</td>\n",
       "      <td>-73.980331</td>\n",
       "      <td>40.760468</td>\n",
       "      <td>N</td>\n",
       "      <td>1040</td>\n",
       "    </tr>\n",
       "    <tr>\n",
       "      <th>1</th>\n",
       "      <td>id3485529</td>\n",
       "      <td>2</td>\n",
       "      <td>2016-04-03 12:58:11</td>\n",
       "      <td>2016-04-03 13:11:58</td>\n",
       "      <td>1</td>\n",
       "      <td>-73.978394</td>\n",
       "      <td>40.764351</td>\n",
       "      <td>-73.991623</td>\n",
       "      <td>40.749859</td>\n",
       "      <td>N</td>\n",
       "      <td>827</td>\n",
       "    </tr>\n",
       "    <tr>\n",
       "      <th>2</th>\n",
       "      <td>id1816614</td>\n",
       "      <td>2</td>\n",
       "      <td>2016-06-05 02:49:13</td>\n",
       "      <td>2016-06-05 02:59:27</td>\n",
       "      <td>5</td>\n",
       "      <td>-73.989059</td>\n",
       "      <td>40.744389</td>\n",
       "      <td>-73.973381</td>\n",
       "      <td>40.748692</td>\n",
       "      <td>N</td>\n",
       "      <td>614</td>\n",
       "    </tr>\n",
       "    <tr>\n",
       "      <th>3</th>\n",
       "      <td>id1050851</td>\n",
       "      <td>2</td>\n",
       "      <td>2016-05-05 17:18:27</td>\n",
       "      <td>2016-05-05 17:32:54</td>\n",
       "      <td>2</td>\n",
       "      <td>-73.990326</td>\n",
       "      <td>40.731136</td>\n",
       "      <td>-73.991264</td>\n",
       "      <td>40.748917</td>\n",
       "      <td>N</td>\n",
       "      <td>867</td>\n",
       "    </tr>\n",
       "    <tr>\n",
       "      <th>4</th>\n",
       "      <td>id0140657</td>\n",
       "      <td>1</td>\n",
       "      <td>2016-05-12 17:43:38</td>\n",
       "      <td>2016-05-12 19:06:25</td>\n",
       "      <td>4</td>\n",
       "      <td>-73.789497</td>\n",
       "      <td>40.646675</td>\n",
       "      <td>-73.987137</td>\n",
       "      <td>40.759232</td>\n",
       "      <td>N</td>\n",
       "      <td>4967</td>\n",
       "    </tr>\n",
       "  </tbody>\n",
       "</table>\n",
       "</div>"
      ],
      "text/plain": [
       "          id  vendor_id      pickup_datetime     dropoff_datetime  \\\n",
       "0  id2793718          2  2016-06-08 07:36:19  2016-06-08 07:53:39   \n",
       "1  id3485529          2  2016-04-03 12:58:11  2016-04-03 13:11:58   \n",
       "2  id1816614          2  2016-06-05 02:49:13  2016-06-05 02:59:27   \n",
       "3  id1050851          2  2016-05-05 17:18:27  2016-05-05 17:32:54   \n",
       "4  id0140657          1  2016-05-12 17:43:38  2016-05-12 19:06:25   \n",
       "\n",
       "   passenger_count  pickup_longitude  pickup_latitude  dropoff_longitude  \\\n",
       "0                1        -73.985611        40.735943         -73.980331   \n",
       "1                1        -73.978394        40.764351         -73.991623   \n",
       "2                5        -73.989059        40.744389         -73.973381   \n",
       "3                2        -73.990326        40.731136         -73.991264   \n",
       "4                4        -73.789497        40.646675         -73.987137   \n",
       "\n",
       "   dropoff_latitude store_and_fwd_flag  trip_duration  \n",
       "0         40.760468                  N           1040  \n",
       "1         40.749859                  N            827  \n",
       "2         40.748692                  N            614  \n",
       "3         40.748917                  N            867  \n",
       "4         40.759232                  N           4967  "
      ]
     },
     "execution_count": 4,
     "metadata": {},
     "output_type": "execute_result"
    }
   ],
   "source": [
    "df.head()"
   ]
  },
  {
   "cell_type": "code",
   "execution_count": 5,
   "metadata": {},
   "outputs": [
    {
     "name": "stdout",
     "output_type": "stream",
     "text": [
      "<class 'pandas.core.frame.DataFrame'>\n",
      "RangeIndex: 1000000 entries, 0 to 999999\n",
      "Data columns (total 9 columns):\n",
      " #   Column              Non-Null Count    Dtype  \n",
      "---  ------              --------------    -----  \n",
      " 0   vendor_id           1000000 non-null  int64  \n",
      " 1   pickup_datetime     1000000 non-null  object \n",
      " 2   passenger_count     1000000 non-null  int64  \n",
      " 3   pickup_longitude    1000000 non-null  float64\n",
      " 4   pickup_latitude     1000000 non-null  float64\n",
      " 5   dropoff_longitude   1000000 non-null  float64\n",
      " 6   dropoff_latitude    1000000 non-null  float64\n",
      " 7   store_and_fwd_flag  1000000 non-null  object \n",
      " 8   trip_duration       1000000 non-null  int64  \n",
      "dtypes: float64(4), int64(3), object(2)\n",
      "memory usage: 68.7+ MB\n"
     ]
    }
   ],
   "source": [
    "df.drop(columns='id', axis=1, inplace=True)\n",
    "df.drop(columns=\"dropoff_datetime\", axis=1,inplace=True)\n",
    "df.info()\n",
    "dft.drop(columns='id', axis=1, inplace=True)\n",
    "dft.drop(columns=\"dropoff_datetime\", axis=1,inplace=True)"
   ]
  },
  {
   "cell_type": "code",
   "execution_count": 6,
   "metadata": {},
   "outputs": [
    {
     "data": {
      "text/plain": [
       "vendor_id             0\n",
       "pickup_datetime       0\n",
       "passenger_count       0\n",
       "pickup_longitude      0\n",
       "pickup_latitude       0\n",
       "dropoff_longitude     0\n",
       "dropoff_latitude      0\n",
       "store_and_fwd_flag    0\n",
       "trip_duration         0\n",
       "dtype: int64"
      ]
     },
     "execution_count": 6,
     "metadata": {},
     "output_type": "execute_result"
    }
   ],
   "source": [
    "# So we got no nulls\n",
    "\n",
    "df.isnull().sum()#no nulls "
   ]
  },
  {
   "cell_type": "code",
   "execution_count": 7,
   "metadata": {},
   "outputs": [
    {
     "data": {
      "text/html": [
       "<div>\n",
       "<style scoped>\n",
       "    .dataframe tbody tr th:only-of-type {\n",
       "        vertical-align: middle;\n",
       "    }\n",
       "\n",
       "    .dataframe tbody tr th {\n",
       "        vertical-align: top;\n",
       "    }\n",
       "\n",
       "    .dataframe thead th {\n",
       "        text-align: right;\n",
       "    }\n",
       "</style>\n",
       "<table border=\"1\" class=\"dataframe\">\n",
       "  <thead>\n",
       "    <tr style=\"text-align: right;\">\n",
       "      <th></th>\n",
       "      <th>vendor_id</th>\n",
       "      <th>passenger_count</th>\n",
       "      <th>pickup_longitude</th>\n",
       "      <th>pickup_latitude</th>\n",
       "      <th>dropoff_longitude</th>\n",
       "      <th>dropoff_latitude</th>\n",
       "      <th>trip_duration</th>\n",
       "    </tr>\n",
       "  </thead>\n",
       "  <tbody>\n",
       "    <tr>\n",
       "      <th>count</th>\n",
       "      <td>1000000.000000</td>\n",
       "      <td>1000000.000000</td>\n",
       "      <td>1000000.000000</td>\n",
       "      <td>1000000.000000</td>\n",
       "      <td>1000000.000000</td>\n",
       "      <td>1000000.000000</td>\n",
       "      <td>1.000000e+06</td>\n",
       "    </tr>\n",
       "    <tr>\n",
       "      <th>mean</th>\n",
       "      <td>1.534793</td>\n",
       "      <td>1.665353</td>\n",
       "      <td>-73.973475</td>\n",
       "      <td>40.750947</td>\n",
       "      <td>-73.973421</td>\n",
       "      <td>40.751829</td>\n",
       "      <td>9.548850e+02</td>\n",
       "    </tr>\n",
       "    <tr>\n",
       "      <th>std</th>\n",
       "      <td>0.498788</td>\n",
       "      <td>1.315723</td>\n",
       "      <td>0.065404</td>\n",
       "      <td>0.033745</td>\n",
       "      <td>0.065432</td>\n",
       "      <td>0.035782</td>\n",
       "      <td>3.882070e+03</td>\n",
       "    </tr>\n",
       "    <tr>\n",
       "      <th>min</th>\n",
       "      <td>1.000000</td>\n",
       "      <td>0.000000</td>\n",
       "      <td>-121.933342</td>\n",
       "      <td>34.359695</td>\n",
       "      <td>-121.933304</td>\n",
       "      <td>34.359695</td>\n",
       "      <td>1.000000e+00</td>\n",
       "    </tr>\n",
       "    <tr>\n",
       "      <th>25%</th>\n",
       "      <td>1.000000</td>\n",
       "      <td>1.000000</td>\n",
       "      <td>-73.991852</td>\n",
       "      <td>40.737372</td>\n",
       "      <td>-73.991341</td>\n",
       "      <td>40.735928</td>\n",
       "      <td>3.970000e+02</td>\n",
       "    </tr>\n",
       "    <tr>\n",
       "      <th>50%</th>\n",
       "      <td>2.000000</td>\n",
       "      <td>1.000000</td>\n",
       "      <td>-73.981728</td>\n",
       "      <td>40.754131</td>\n",
       "      <td>-73.979767</td>\n",
       "      <td>40.754551</td>\n",
       "      <td>6.620000e+02</td>\n",
       "    </tr>\n",
       "    <tr>\n",
       "      <th>75%</th>\n",
       "      <td>2.000000</td>\n",
       "      <td>2.000000</td>\n",
       "      <td>-73.967346</td>\n",
       "      <td>40.768379</td>\n",
       "      <td>-73.963036</td>\n",
       "      <td>40.769833</td>\n",
       "      <td>1.074000e+03</td>\n",
       "    </tr>\n",
       "    <tr>\n",
       "      <th>max</th>\n",
       "      <td>2.000000</td>\n",
       "      <td>7.000000</td>\n",
       "      <td>-61.335529</td>\n",
       "      <td>51.881084</td>\n",
       "      <td>-61.335529</td>\n",
       "      <td>43.921028</td>\n",
       "      <td>2.227612e+06</td>\n",
       "    </tr>\n",
       "  </tbody>\n",
       "</table>\n",
       "</div>"
      ],
      "text/plain": [
       "            vendor_id  passenger_count  pickup_longitude  pickup_latitude  \\\n",
       "count  1000000.000000   1000000.000000    1000000.000000   1000000.000000   \n",
       "mean         1.534793         1.665353        -73.973475        40.750947   \n",
       "std          0.498788         1.315723          0.065404         0.033745   \n",
       "min          1.000000         0.000000       -121.933342        34.359695   \n",
       "25%          1.000000         1.000000        -73.991852        40.737372   \n",
       "50%          2.000000         1.000000        -73.981728        40.754131   \n",
       "75%          2.000000         2.000000        -73.967346        40.768379   \n",
       "max          2.000000         7.000000        -61.335529        51.881084   \n",
       "\n",
       "       dropoff_longitude  dropoff_latitude  trip_duration  \n",
       "count     1000000.000000    1000000.000000   1.000000e+06  \n",
       "mean          -73.973421         40.751829   9.548850e+02  \n",
       "std             0.065432          0.035782   3.882070e+03  \n",
       "min          -121.933304         34.359695   1.000000e+00  \n",
       "25%           -73.991341         40.735928   3.970000e+02  \n",
       "50%           -73.979767         40.754551   6.620000e+02  \n",
       "75%           -73.963036         40.769833   1.074000e+03  \n",
       "max           -61.335529         43.921028   2.227612e+06  "
      ]
     },
     "execution_count": 7,
     "metadata": {},
     "output_type": "execute_result"
    }
   ],
   "source": [
    "df.describe()"
   ]
  },
  {
   "cell_type": "markdown",
   "metadata": {},
   "source": [
    "- we have some outliers that we can drop"
   ]
  },
  {
   "cell_type": "code",
   "execution_count": 8,
   "metadata": {},
   "outputs": [
    {
     "data": {
      "text/plain": [
       "(998577, 9)"
      ]
     },
     "execution_count": 8,
     "metadata": {},
     "output_type": "execute_result"
    }
   ],
   "source": [
    "df = df.loc[df['trip_duration']<20000]\n",
    "df.shape"
   ]
  },
  {
   "cell_type": "markdown",
   "metadata": {},
   "source": [
    "### We can add a new column that represent the distance coverd by in each trip using haversine_distance that given 2 points with their lon. and lat. , it return the distance between them in kilometers ."
   ]
  },
  {
   "cell_type": "code",
   "execution_count": 9,
   "metadata": {},
   "outputs": [],
   "source": [
    "import math\n",
    "\n",
    "def haversine_distance(lat1, lon1, lat2, lon2):\n",
    "    # Convert latitude and longitude from degrees to radians\n",
    "    lat1, lon1, lat2, lon2 = map(math.radians, [lat1, lon1, lat2, lon2])\n",
    "\n",
    "    # Haversine formula\n",
    "    d_lat = lat2 - lat1\n",
    "    d_lon = lon2 - lon1\n",
    "    a = math.sin(d_lat / 2) ** 2 + math.cos(lat1) * math.cos(lat2) * math.sin(d_lon / 2) ** 2\n",
    "    c = 2 * math.atan2(math.sqrt(a), math.sqrt(1 - a))\n",
    "    earth_radius_km = 6371  # Earth's radius in kilometers\n",
    "    distance = earth_radius_km * c\n",
    "\n",
    "    return distance"
   ]
  },
  {
   "cell_type": "code",
   "execution_count": 10,
   "metadata": {},
   "outputs": [],
   "source": [
    "\n",
    "dft['distance'] = dft.apply(lambda row: haversine_distance(row['pickup_latitude'], row['pickup_longitude'], row['dropoff_latitude'], row['dropoff_longitude']), axis=1)\n",
    "df['distance'] = df.apply(lambda row: haversine_distance(row['pickup_latitude'], row['pickup_longitude'], row['dropoff_latitude'], row['dropoff_longitude']), axis=1)"
   ]
  },
  {
   "cell_type": "markdown",
   "metadata": {},
   "source": [
    " ### start to view columns types"
   ]
  },
  {
   "cell_type": "code",
   "execution_count": 11,
   "metadata": {},
   "outputs": [
    {
     "data": {
      "text/html": [
       "<div>\n",
       "<style scoped>\n",
       "    .dataframe tbody tr th:only-of-type {\n",
       "        vertical-align: middle;\n",
       "    }\n",
       "\n",
       "    .dataframe tbody tr th {\n",
       "        vertical-align: top;\n",
       "    }\n",
       "\n",
       "    .dataframe thead th {\n",
       "        text-align: right;\n",
       "    }\n",
       "</style>\n",
       "<table border=\"1\" class=\"dataframe\">\n",
       "  <thead>\n",
       "    <tr style=\"text-align: right;\">\n",
       "      <th></th>\n",
       "      <th>pickup_longitude</th>\n",
       "      <th>pickup_latitude</th>\n",
       "      <th>dropoff_longitude</th>\n",
       "      <th>dropoff_latitude</th>\n",
       "      <th>distance</th>\n",
       "    </tr>\n",
       "  </thead>\n",
       "  <tbody>\n",
       "    <tr>\n",
       "      <th>count</th>\n",
       "      <td>998577.000000</td>\n",
       "      <td>998577.000000</td>\n",
       "      <td>998577.000000</td>\n",
       "      <td>998577.000000</td>\n",
       "      <td>998577.000000</td>\n",
       "    </tr>\n",
       "    <tr>\n",
       "      <th>mean</th>\n",
       "      <td>-73.973477</td>\n",
       "      <td>40.750950</td>\n",
       "      <td>-73.973426</td>\n",
       "      <td>40.751830</td>\n",
       "      <td>3.437721</td>\n",
       "    </tr>\n",
       "    <tr>\n",
       "      <th>std</th>\n",
       "      <td>0.065414</td>\n",
       "      <td>0.033736</td>\n",
       "      <td>0.065455</td>\n",
       "      <td>0.035776</td>\n",
       "      <td>4.419725</td>\n",
       "    </tr>\n",
       "    <tr>\n",
       "      <th>min</th>\n",
       "      <td>-121.933342</td>\n",
       "      <td>34.359695</td>\n",
       "      <td>-121.933304</td>\n",
       "      <td>34.359695</td>\n",
       "      <td>0.000000</td>\n",
       "    </tr>\n",
       "    <tr>\n",
       "      <th>25%</th>\n",
       "      <td>-73.991852</td>\n",
       "      <td>40.737373</td>\n",
       "      <td>-73.991341</td>\n",
       "      <td>40.735931</td>\n",
       "      <td>1.231950</td>\n",
       "    </tr>\n",
       "    <tr>\n",
       "      <th>50%</th>\n",
       "      <td>-73.981728</td>\n",
       "      <td>40.754131</td>\n",
       "      <td>-73.979767</td>\n",
       "      <td>40.754551</td>\n",
       "      <td>2.090796</td>\n",
       "    </tr>\n",
       "    <tr>\n",
       "      <th>75%</th>\n",
       "      <td>-73.967354</td>\n",
       "      <td>40.768383</td>\n",
       "      <td>-73.963036</td>\n",
       "      <td>40.769836</td>\n",
       "      <td>3.870220</td>\n",
       "    </tr>\n",
       "    <tr>\n",
       "      <th>max</th>\n",
       "      <td>-61.335529</td>\n",
       "      <td>51.881084</td>\n",
       "      <td>-61.335529</td>\n",
       "      <td>43.921028</td>\n",
       "      <td>1240.908677</td>\n",
       "    </tr>\n",
       "  </tbody>\n",
       "</table>\n",
       "</div>"
      ],
      "text/plain": [
       "       pickup_longitude  pickup_latitude  dropoff_longitude  dropoff_latitude  \\\n",
       "count     998577.000000    998577.000000      998577.000000     998577.000000   \n",
       "mean         -73.973477        40.750950         -73.973426         40.751830   \n",
       "std            0.065414         0.033736           0.065455          0.035776   \n",
       "min         -121.933342        34.359695        -121.933304         34.359695   \n",
       "25%          -73.991852        40.737373         -73.991341         40.735931   \n",
       "50%          -73.981728        40.754131         -73.979767         40.754551   \n",
       "75%          -73.967354        40.768383         -73.963036         40.769836   \n",
       "max          -61.335529        51.881084         -61.335529         43.921028   \n",
       "\n",
       "            distance  \n",
       "count  998577.000000  \n",
       "mean        3.437721  \n",
       "std         4.419725  \n",
       "min         0.000000  \n",
       "25%         1.231950  \n",
       "50%         2.090796  \n",
       "75%         3.870220  \n",
       "max      1240.908677  "
      ]
     },
     "execution_count": 11,
     "metadata": {},
     "output_type": "execute_result"
    }
   ],
   "source": [
    "df_flot = df.select_dtypes(include=['float64']) \n",
    "df_int = df.select_dtypes(include=['int64'])  \n",
    "df_flot.describe()"
   ]
  },
  {
   "cell_type": "markdown",
   "metadata": {},
   "source": [
    "- we can log the distance"
   ]
  },
  {
   "cell_type": "markdown",
   "metadata": {},
   "source": [
    "### deal with date column"
   ]
  },
  {
   "cell_type": "code",
   "execution_count": 12,
   "metadata": {},
   "outputs": [],
   "source": [
    "df['pickup_datetime'] = pd.to_datetime(df['pickup_datetime'])\n",
    "df['month'] = df['pickup_datetime'].dt.month\n",
    "df['week'] = df['pickup_datetime'].dt.weekday\n",
    "df['day'] = df['pickup_datetime'].dt.day\n",
    "df['hour'] = df['pickup_datetime'].dt.hour\n",
    "df['weekday'] = df['pickup_datetime'].dt.day_name()\n",
    "df['time_of_day'] = pd.cut(df['hour'], bins=[0, 6, 12, 18, 24], labels=['Night', 'Morning', 'Afternoon', 'Evening'])\n",
    "\n",
    "dft['pickup_datetime'] = pd.to_datetime(dft['pickup_datetime'])\n",
    "dft['month'] = dft['pickup_datetime'].dt.month\n",
    "dft['week'] = dft['pickup_datetime'].dt.weekday\n",
    "dft['day'] = dft['pickup_datetime'].dt.day\n",
    "dft['hour'] = dft['pickup_datetime'].dt.hour\n",
    "dft['weekday'] = dft['pickup_datetime'].dt.day_name()\n",
    "dft['time_of_day'] = pd.cut(dft['hour'], bins=[0, 6, 12, 18, 24], labels=['Night', 'Morning', 'Afternoon', 'Evening'])"
   ]
  },
  {
   "cell_type": "code",
   "execution_count": 13,
   "metadata": {},
   "outputs": [
    {
     "data": {
      "text/html": [
       "<div>\n",
       "<style scoped>\n",
       "    .dataframe tbody tr th:only-of-type {\n",
       "        vertical-align: middle;\n",
       "    }\n",
       "\n",
       "    .dataframe tbody tr th {\n",
       "        vertical-align: top;\n",
       "    }\n",
       "\n",
       "    .dataframe thead th {\n",
       "        text-align: right;\n",
       "    }\n",
       "</style>\n",
       "<table border=\"1\" class=\"dataframe\">\n",
       "  <thead>\n",
       "    <tr style=\"text-align: right;\">\n",
       "      <th></th>\n",
       "      <th>vendor_id</th>\n",
       "      <th>pickup_datetime</th>\n",
       "      <th>passenger_count</th>\n",
       "      <th>pickup_longitude</th>\n",
       "      <th>pickup_latitude</th>\n",
       "      <th>dropoff_longitude</th>\n",
       "      <th>dropoff_latitude</th>\n",
       "      <th>store_and_fwd_flag</th>\n",
       "      <th>trip_duration</th>\n",
       "      <th>distance</th>\n",
       "      <th>month</th>\n",
       "      <th>week</th>\n",
       "      <th>day</th>\n",
       "      <th>hour</th>\n",
       "      <th>weekday</th>\n",
       "      <th>time_of_day</th>\n",
       "    </tr>\n",
       "  </thead>\n",
       "  <tbody>\n",
       "    <tr>\n",
       "      <th>0</th>\n",
       "      <td>2</td>\n",
       "      <td>2016-06-08 07:36:19</td>\n",
       "      <td>1</td>\n",
       "      <td>-73.985611</td>\n",
       "      <td>40.735943</td>\n",
       "      <td>-73.980331</td>\n",
       "      <td>40.760468</td>\n",
       "      <td>N</td>\n",
       "      <td>1040</td>\n",
       "      <td>2.763050</td>\n",
       "      <td>6</td>\n",
       "      <td>2</td>\n",
       "      <td>8</td>\n",
       "      <td>7</td>\n",
       "      <td>Wednesday</td>\n",
       "      <td>Morning</td>\n",
       "    </tr>\n",
       "    <tr>\n",
       "      <th>1</th>\n",
       "      <td>2</td>\n",
       "      <td>2016-04-03 12:58:11</td>\n",
       "      <td>1</td>\n",
       "      <td>-73.978394</td>\n",
       "      <td>40.764351</td>\n",
       "      <td>-73.991623</td>\n",
       "      <td>40.749859</td>\n",
       "      <td>N</td>\n",
       "      <td>827</td>\n",
       "      <td>1.959178</td>\n",
       "      <td>4</td>\n",
       "      <td>6</td>\n",
       "      <td>3</td>\n",
       "      <td>12</td>\n",
       "      <td>Sunday</td>\n",
       "      <td>Morning</td>\n",
       "    </tr>\n",
       "    <tr>\n",
       "      <th>2</th>\n",
       "      <td>2</td>\n",
       "      <td>2016-06-05 02:49:13</td>\n",
       "      <td>5</td>\n",
       "      <td>-73.989059</td>\n",
       "      <td>40.744389</td>\n",
       "      <td>-73.973381</td>\n",
       "      <td>40.748692</td>\n",
       "      <td>N</td>\n",
       "      <td>614</td>\n",
       "      <td>1.404772</td>\n",
       "      <td>6</td>\n",
       "      <td>6</td>\n",
       "      <td>5</td>\n",
       "      <td>2</td>\n",
       "      <td>Sunday</td>\n",
       "      <td>Night</td>\n",
       "    </tr>\n",
       "    <tr>\n",
       "      <th>3</th>\n",
       "      <td>2</td>\n",
       "      <td>2016-05-05 17:18:27</td>\n",
       "      <td>2</td>\n",
       "      <td>-73.990326</td>\n",
       "      <td>40.731136</td>\n",
       "      <td>-73.991264</td>\n",
       "      <td>40.748917</td>\n",
       "      <td>N</td>\n",
       "      <td>867</td>\n",
       "      <td>1.978660</td>\n",
       "      <td>5</td>\n",
       "      <td>3</td>\n",
       "      <td>5</td>\n",
       "      <td>17</td>\n",
       "      <td>Thursday</td>\n",
       "      <td>Afternoon</td>\n",
       "    </tr>\n",
       "    <tr>\n",
       "      <th>4</th>\n",
       "      <td>1</td>\n",
       "      <td>2016-05-12 17:43:38</td>\n",
       "      <td>4</td>\n",
       "      <td>-73.789497</td>\n",
       "      <td>40.646675</td>\n",
       "      <td>-73.987137</td>\n",
       "      <td>40.759232</td>\n",
       "      <td>N</td>\n",
       "      <td>4967</td>\n",
       "      <td>20.837745</td>\n",
       "      <td>5</td>\n",
       "      <td>3</td>\n",
       "      <td>12</td>\n",
       "      <td>17</td>\n",
       "      <td>Thursday</td>\n",
       "      <td>Afternoon</td>\n",
       "    </tr>\n",
       "  </tbody>\n",
       "</table>\n",
       "</div>"
      ],
      "text/plain": [
       "   vendor_id     pickup_datetime  passenger_count  pickup_longitude  \\\n",
       "0          2 2016-06-08 07:36:19                1        -73.985611   \n",
       "1          2 2016-04-03 12:58:11                1        -73.978394   \n",
       "2          2 2016-06-05 02:49:13                5        -73.989059   \n",
       "3          2 2016-05-05 17:18:27                2        -73.990326   \n",
       "4          1 2016-05-12 17:43:38                4        -73.789497   \n",
       "\n",
       "   pickup_latitude  dropoff_longitude  dropoff_latitude store_and_fwd_flag  \\\n",
       "0        40.735943         -73.980331         40.760468                  N   \n",
       "1        40.764351         -73.991623         40.749859                  N   \n",
       "2        40.744389         -73.973381         40.748692                  N   \n",
       "3        40.731136         -73.991264         40.748917                  N   \n",
       "4        40.646675         -73.987137         40.759232                  N   \n",
       "\n",
       "   trip_duration   distance  month  week  day  hour    weekday time_of_day  \n",
       "0           1040   2.763050      6     2    8     7  Wednesday     Morning  \n",
       "1            827   1.959178      4     6    3    12     Sunday     Morning  \n",
       "2            614   1.404772      6     6    5     2     Sunday       Night  \n",
       "3            867   1.978660      5     3    5    17   Thursday   Afternoon  \n",
       "4           4967  20.837745      5     3   12    17   Thursday   Afternoon  "
      ]
     },
     "execution_count": 13,
     "metadata": {},
     "output_type": "execute_result"
    }
   ],
   "source": [
    "df.head()"
   ]
  },
  {
   "cell_type": "markdown",
   "metadata": {},
   "source": [
    "## we can do some visulizations to check any patterns"
   ]
  },
  {
   "cell_type": "code",
   "execution_count": 14,
   "metadata": {},
   "outputs": [
    {
     "data": {
      "image/png": "[encoded data removed]",
      "text/plain": [
       "<Figure size 640x480 with 1 Axes>"
      ]
     },
     "metadata": {},
     "output_type": "display_data"
    }
   ],
   "source": [
    "Grouped_by_WS =df.groupby(\"hour\")[\"trip_duration\"].mean()\n",
    "plt.plot(Grouped_by_WS.index , Grouped_by_WS.values)\n",
    "Grouped_by_WS.plot()\n",
    "plt.xlabel(\"hour\")\n",
    "plt.ylabel(\"trip_duration\")\n",
    "plt.show()\n",
    "# we can see that around hour 15 , the trips with the longest trip_duration take place"
   ]
  },
  {
   "cell_type": "code",
   "execution_count": 35,
   "metadata": {},
   "outputs": [
    {
     "data": {
      "image/png": "[encoded data removed]",
      "text/plain": [
       "<Figure size 640x480 with 1 Axes>"
      ]
     },
     "metadata": {},
     "output_type": "display_data"
    }
   ],
   "source": [
    "Grouped_by_WS =df.groupby(\"passenger_count\")[\"trip_duration\"].mean()\n",
    "plt.plot(Grouped_by_WS.index , Grouped_by_WS.values)\n",
    "Grouped_by_WS.plot(kind='bar')\n",
    "plt.xlabel(\"passenger_count\")\n",
    "plt.ylabel(\"trip_duration\")\n",
    "plt.show()"
   ]
  },
  {
   "cell_type": "code",
   "execution_count": 15,
   "metadata": {},
   "outputs": [
    {
     "data": {
      "image/png": "[encoded data removed]",
      "text/plain": [
       "<Figure size 640x480 with 1 Axes>"
      ]
     },
     "metadata": {},
     "output_type": "display_data"
    }
   ],
   "source": [
    "Grouped_by_WS =df.groupby(\"day\")[\"trip_duration\"].mean()\n",
    "plt.plot(Grouped_by_WS.index , Grouped_by_WS.values)\n",
    "Grouped_by_WS.plot()\n",
    "plt.xlabel(\"days\")\n",
    "plt.ylabel(\"trip_duration\")\n",
    "plt.show()\n",
    "# we can see that at some days  , mean trip_duration is high compared to others"
   ]
  },
  {
   "cell_type": "code",
   "execution_count": 16,
   "metadata": {},
   "outputs": [
    {
     "data": {
      "image/png": "[encoded data removed]",
      "text/plain": [
       "<Figure size 640x480 with 1 Axes>"
      ]
     },
     "metadata": {},
     "output_type": "display_data"
    }
   ],
   "source": [
    "Grouped_by_WS =df.groupby(\"weekday\")[\"trip_duration\"].mean()\n",
    "Grouped_by_WS.plot(kind='bar')\n",
    "plt.xlabel(\"week_day\")\n",
    "plt.ylabel(\"trip_duration\")\n",
    "plt.show()"
   ]
  },
  {
   "cell_type": "code",
   "execution_count": 17,
   "metadata": {},
   "outputs": [],
   "source": [
    "df['trip_duration'] = np.log1p(df['trip_duration'])\n",
    "dft['trip_duration'] = np.log1p(dft['trip_duration'])\n",
    "# Apply np.log1p() to the target variable 'trip_duration'"
   ]
  },
  {
   "cell_type": "markdown",
   "metadata": {},
   "source": [
    "- Also by taking log of the distance seems to work well "
   ]
  },
  {
   "cell_type": "markdown",
   "metadata": {},
   "source": [
    "## add more feautures"
   ]
  },
  {
   "cell_type": "code",
   "execution_count": 18,
   "metadata": {},
   "outputs": [],
   "source": [
    "\n",
    "# Add additional distance features\n",
    "df['euclidean_distance'] = ((df['pickup_longitude'] - df['dropoff_longitude'])**2 +\n",
    "                            (df['pickup_latitude'] - df['dropoff_latitude'])**2)**0.5\n",
    "df['manhattan_distance'] = abs(df['pickup_longitude'] - df['dropoff_longitude']) + \\\n",
    "                            abs(df['pickup_latitude'] - df['dropoff_latitude'])\n",
    "                            \n",
    "dft['euclidean_distance'] = ((dft['pickup_longitude'] - dft['dropoff_longitude'])**2 +\n",
    "                            (dft['pickup_latitude'] - dft['dropoff_latitude'])**2)**0.5\n",
    "dft['manhattan_distance'] = abs(dft['pickup_longitude'] - dft['dropoff_longitude']) + \\\n",
    "                            abs(dft['pickup_latitude'] - dft['dropoff_latitude'])\n",
    "\n",
    "\n"
   ]
  },
  {
   "cell_type": "code",
   "execution_count": 19,
   "metadata": {},
   "outputs": [],
   "source": [
    "df['distance'] = np.log1p(df['distance'])\n",
    "dft['distance'] = np.log1p(dft['distance'])\n",
    "df['euclidean_distance'] = np.log1p(df['euclidean_distance'])\n",
    "dft['euclidean_distance'] = np.log1p(dft['euclidean_distance'])\n",
    "df['manhattan_distance'] = np.log1p(df['manhattan_distance'])\n",
    "dft['manhattan_distance'] = np.log1p(dft['manhattan_distance'])"
   ]
  },
  {
   "cell_type": "markdown",
   "metadata": {},
   "source": [
    "- one hot encoding to categorical feautures"
   ]
  },
  {
   "cell_type": "code",
   "execution_count": 20,
   "metadata": {},
   "outputs": [],
   "source": [
    "# One-Hot Encoding\n",
    "df = pd.get_dummies(df,columns=['vendor_id','store_and_fwd_flag','weekday','time_of_day'])\n",
    "\n",
    "# One-Hot Encoding\n",
    "dft = pd.get_dummies(dft,columns=['vendor_id','store_and_fwd_flag','weekday','time_of_day'])\n",
    "\n"
   ]
  },
  {
   "cell_type": "code",
   "execution_count": 21,
   "metadata": {},
   "outputs": [],
   "source": [
    "df = df.loc[df['passenger_count']>0]\n",
    "df = df.loc[df['distance']>0]"
   ]
  },
  {
   "cell_type": "code",
   "execution_count": 22,
   "metadata": {},
   "outputs": [
    {
     "data": {
      "text/plain": [
       "Index(['pickup_datetime', 'passenger_count', 'pickup_longitude',\n",
       "       'pickup_latitude', 'dropoff_longitude', 'dropoff_latitude',\n",
       "       'trip_duration', 'distance', 'month', 'week', 'day', 'hour',\n",
       "       'euclidean_distance', 'manhattan_distance', 'vendor_id_1',\n",
       "       'vendor_id_2', 'store_and_fwd_flag_N', 'store_and_fwd_flag_Y',\n",
       "       'weekday_Friday', 'weekday_Monday', 'weekday_Saturday',\n",
       "       'weekday_Sunday', 'weekday_Thursday', 'weekday_Tuesday',\n",
       "       'weekday_Wednesday', 'time_of_day_Night', 'time_of_day_Morning',\n",
       "       'time_of_day_Afternoon', 'time_of_day_Evening'],\n",
       "      dtype='object')"
      ]
     },
     "execution_count": 22,
     "metadata": {},
     "output_type": "execute_result"
    }
   ],
   "source": [
    "df.columns"
   ]
  },
  {
   "cell_type": "code",
   "execution_count": 42,
   "metadata": {},
   "outputs": [
    {
     "data": {
      "text/html": [
       "<div>\n",
       "<style scoped>\n",
       "    .dataframe tbody tr th:only-of-type {\n",
       "        vertical-align: middle;\n",
       "    }\n",
       "\n",
       "    .dataframe tbody tr th {\n",
       "        vertical-align: top;\n",
       "    }\n",
       "\n",
       "    .dataframe thead th {\n",
       "        text-align: right;\n",
       "    }\n",
       "</style>\n",
       "<table border=\"1\" class=\"dataframe\">\n",
       "  <thead>\n",
       "    <tr style=\"text-align: right;\">\n",
       "      <th></th>\n",
       "      <th>pickup_datetime</th>\n",
       "      <th>passenger_count</th>\n",
       "      <th>pickup_longitude</th>\n",
       "      <th>pickup_latitude</th>\n",
       "      <th>dropoff_longitude</th>\n",
       "      <th>dropoff_latitude</th>\n",
       "      <th>trip_duration</th>\n",
       "      <th>distance</th>\n",
       "      <th>month</th>\n",
       "      <th>week</th>\n",
       "      <th>...</th>\n",
       "      <th>weekday_Thursday</th>\n",
       "      <th>weekday_Tuesday</th>\n",
       "      <th>weekday_Wednesday</th>\n",
       "      <th>time_of_day_Night</th>\n",
       "      <th>time_of_day_Morning</th>\n",
       "      <th>time_of_day_Afternoon</th>\n",
       "      <th>time_of_day_Evening</th>\n",
       "      <th>speed</th>\n",
       "      <th>speedd</th>\n",
       "      <th>speeddd</th>\n",
       "    </tr>\n",
       "  </thead>\n",
       "  <tbody>\n",
       "    <tr>\n",
       "      <th>0</th>\n",
       "      <td>2016-06-08 07:36:19</td>\n",
       "      <td>1</td>\n",
       "      <td>-73.985611</td>\n",
       "      <td>40.735943</td>\n",
       "      <td>-73.980331</td>\n",
       "      <td>40.760468</td>\n",
       "      <td>6.947937</td>\n",
       "      <td>1.325230</td>\n",
       "      <td>6</td>\n",
       "      <td>2</td>\n",
       "      <td>...</td>\n",
       "      <td>0</td>\n",
       "      <td>0</td>\n",
       "      <td>1</td>\n",
       "      <td>0</td>\n",
       "      <td>1</td>\n",
       "      <td>0</td>\n",
       "      <td>0</td>\n",
       "      <td>2.329870</td>\n",
       "      <td>0.843819</td>\n",
       "      <td>10.601837</td>\n",
       "    </tr>\n",
       "    <tr>\n",
       "      <th>1</th>\n",
       "      <td>2016-04-03 12:58:11</td>\n",
       "      <td>1</td>\n",
       "      <td>-73.978394</td>\n",
       "      <td>40.764351</td>\n",
       "      <td>-73.991623</td>\n",
       "      <td>40.749859</td>\n",
       "      <td>6.719013</td>\n",
       "      <td>1.084912</td>\n",
       "      <td>4</td>\n",
       "      <td>6</td>\n",
       "      <td>...</td>\n",
       "      <td>0</td>\n",
       "      <td>0</td>\n",
       "      <td>0</td>\n",
       "      <td>0</td>\n",
       "      <td>1</td>\n",
       "      <td>0</td>\n",
       "      <td>0</td>\n",
       "      <td>2.640409</td>\n",
       "      <td>0.734726</td>\n",
       "      <td>3.254735</td>\n",
       "    </tr>\n",
       "    <tr>\n",
       "      <th>2</th>\n",
       "      <td>2016-06-05 02:49:13</td>\n",
       "      <td>5</td>\n",
       "      <td>-73.989059</td>\n",
       "      <td>40.744389</td>\n",
       "      <td>-73.973381</td>\n",
       "      <td>40.748692</td>\n",
       "      <td>6.421622</td>\n",
       "      <td>0.877455</td>\n",
       "      <td>6</td>\n",
       "      <td>6</td>\n",
       "      <td>...</td>\n",
       "      <td>0</td>\n",
       "      <td>0</td>\n",
       "      <td>0</td>\n",
       "      <td>1</td>\n",
       "      <td>0</td>\n",
       "      <td>0</td>\n",
       "      <td>0</td>\n",
       "      <td>1.013385</td>\n",
       "      <td>1.684040</td>\n",
       "      <td>4.387275</td>\n",
       "    </tr>\n",
       "    <tr>\n",
       "      <th>3</th>\n",
       "      <td>2016-05-05 17:18:27</td>\n",
       "      <td>2</td>\n",
       "      <td>-73.990326</td>\n",
       "      <td>40.731136</td>\n",
       "      <td>-73.991264</td>\n",
       "      <td>40.748917</td>\n",
       "      <td>6.766192</td>\n",
       "      <td>1.091473</td>\n",
       "      <td>5</td>\n",
       "      <td>3</td>\n",
       "      <td>...</td>\n",
       "      <td>1</td>\n",
       "      <td>0</td>\n",
       "      <td>0</td>\n",
       "      <td>0</td>\n",
       "      <td>0</td>\n",
       "      <td>1</td>\n",
       "      <td>0</td>\n",
       "      <td>2.973233</td>\n",
       "      <td>1.157807</td>\n",
       "      <td>5.457367</td>\n",
       "    </tr>\n",
       "    <tr>\n",
       "      <th>4</th>\n",
       "      <td>2016-05-12 17:43:38</td>\n",
       "      <td>4</td>\n",
       "      <td>-73.789497</td>\n",
       "      <td>40.646675</td>\n",
       "      <td>-73.987137</td>\n",
       "      <td>40.759232</td>\n",
       "      <td>8.510773</td>\n",
       "      <td>3.083640</td>\n",
       "      <td>5</td>\n",
       "      <td>3</td>\n",
       "      <td>...</td>\n",
       "      <td>1</td>\n",
       "      <td>0</td>\n",
       "      <td>0</td>\n",
       "      <td>0</td>\n",
       "      <td>0</td>\n",
       "      <td>1</td>\n",
       "      <td>0</td>\n",
       "      <td>3.978220</td>\n",
       "      <td>2.590359</td>\n",
       "      <td>37.003679</td>\n",
       "    </tr>\n",
       "  </tbody>\n",
       "</table>\n",
       "<p>5 rows × 32 columns</p>\n",
       "</div>"
      ],
      "text/plain": [
       "      pickup_datetime  passenger_count  pickup_longitude  pickup_latitude  \\\n",
       "0 2016-06-08 07:36:19                1        -73.985611        40.735943   \n",
       "1 2016-04-03 12:58:11                1        -73.978394        40.764351   \n",
       "2 2016-06-05 02:49:13                5        -73.989059        40.744389   \n",
       "3 2016-05-05 17:18:27                2        -73.990326        40.731136   \n",
       "4 2016-05-12 17:43:38                4        -73.789497        40.646675   \n",
       "\n",
       "   dropoff_longitude  dropoff_latitude  trip_duration  distance  month  week  \\\n",
       "0         -73.980331         40.760468       6.947937  1.325230      6     2   \n",
       "1         -73.991623         40.749859       6.719013  1.084912      4     6   \n",
       "2         -73.973381         40.748692       6.421622  0.877455      6     6   \n",
       "3         -73.991264         40.748917       6.766192  1.091473      5     3   \n",
       "4         -73.987137         40.759232       8.510773  3.083640      5     3   \n",
       "\n",
       "   ...  weekday_Thursday  weekday_Tuesday  weekday_Wednesday  \\\n",
       "0  ...                 0                0                  1   \n",
       "1  ...                 0                0                  0   \n",
       "2  ...                 0                0                  0   \n",
       "3  ...                 1                0                  0   \n",
       "4  ...                 1                0                  0   \n",
       "\n",
       "   time_of_day_Night  time_of_day_Morning  time_of_day_Afternoon  \\\n",
       "0                  0                    1                      0   \n",
       "1                  0                    1                      0   \n",
       "2                  1                    0                      0   \n",
       "3                  0                    0                      1   \n",
       "4                  0                    0                      1   \n",
       "\n",
       "   time_of_day_Evening     speed    speedd    speeddd  \n",
       "0                    0  2.329870  0.843819  10.601837  \n",
       "1                    0  2.640409  0.734726   3.254735  \n",
       "2                    0  1.013385  1.684040   4.387275  \n",
       "3                    0  2.973233  1.157807   5.457367  \n",
       "4                    0  3.978220  2.590359  37.003679  \n",
       "\n",
       "[5 rows x 32 columns]"
      ]
     },
     "execution_count": 42,
     "metadata": {},
     "output_type": "execute_result"
    }
   ],
   "source": [
    "df.head()"
   ]
  },
  {
   "cell_type": "code",
   "execution_count": 30,
   "metadata": {},
   "outputs": [],
   "source": [
    "df['speed']=df['distance']*df['hour']\n",
    "dft['speed']=dft['distance']*dft['hour']"
   ]
  },
  {
   "cell_type": "code",
   "execution_count": 31,
   "metadata": {},
   "outputs": [],
   "source": [
    "df['speed'] = np.log1p(df['speed'])\n",
    "dft['speed'] = np.log1p(dft['speed'])"
   ]
  },
  {
   "cell_type": "code",
   "execution_count": null,
   "metadata": {},
   "outputs": [],
   "source": [
    "df['speedd']=df['distance']*df['passenger_count']\n",
    "dft['speedd']=dft['distance']*dft['passenger_count']"
   ]
  },
  {
   "cell_type": "code",
   "execution_count": 43,
   "metadata": {},
   "outputs": [
    {
     "name": "stdout",
     "output_type": "stream",
     "text": [
      "Mean Squared Error: 0.23941034306566017\n",
      "R-squared: 0.6259427383241397\n"
     ]
    }
   ],
   "source": [
    "\n",
    "\n",
    "# Split the data into features (X) and target variable (y)\n",
    "X = df.drop(columns=['trip_duration','pickup_datetime'])\n",
    "y = df['trip_duration']\n",
    "\n",
    "# Split the data into training and testing sets (80% train, 20% test)\n",
    "X_test = dft.drop(columns=['trip_duration','pickup_datetime'])\n",
    "y_test= dft['trip_duration']\n",
    "\n",
    "\n",
    "\n",
    "\n",
    "# Train the Ridge regression model\n",
    "ridge_model = Ridge(alpha=1)  # You can adjust the regularization parameter (alpha) as needed\n",
    "ridge_model.fit(X, y)\n",
    "\n",
    "# Make predictions on the testing data\n",
    "y_pred = ridge_model.predict(X_test)\n",
    "\n",
    "# Evaluate the model's performance using Mean Squared Error (MSE) and R-squared (R2)\n",
    "mse = mean_squared_error(y_test, y_pred)\n",
    "r2 = r2_score(y_test, y_pred)\n",
    "\n",
    "print(\"Mean Squared Error:\", mse)\n",
    "print(\"R-squared:\", r2)\n"
   ]
  },
  {
   "cell_type": "code",
   "execution_count": null,
   "metadata": {},
   "outputs": [],
   "source": []
  }
 ],
 "metadata": {
  "kernelspec": {
   "display_name": "tensorflow",
   "language": "python",
   "name": "python3"
  },
  "language_info": {
   "codemirror_mode": {
    "name": "ipython",
    "version": 3
   },
   "file_extension": ".py",
   "mimetype": "text/x-python",
   "name": "python",
   "nbconvert_exporter": "python",
   "pygments_lexer": "ipython3",
   "version": "3.9.17"
  },
  "orig_nbformat": 4
 },
 "nbformat": 4,
 "nbformat_minor": 2
}
